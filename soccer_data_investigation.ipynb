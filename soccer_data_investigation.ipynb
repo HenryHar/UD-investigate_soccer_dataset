{
 "cells": [
  {
   "cell_type": "markdown",
   "metadata": {},
   "source": [
    "# Investigating soccer/football match results:\n",
    "\n",
    "For this Data Analysis project, I've decided to investigate a Soccer DataBase provided by Kaggle.com Kaggle.com is one of the industry leaders in data science and its applications. It hosts multiple database for eager individuals to learn from and the website even conducts weekly competitions besides being a well respected consultant in the field.\n",
    "\n",
    "The Soccer Database can be found at the following link: https://www.kaggle.com/hugomathien/soccer\n",
    "\n",
    "The database contains match results and notes for over 25,000 European Professional Matches from the 2008/2009 season till the end of the 2015/2016 season. It includes a vast amount of information on starting players, teams, every match result and everything is neatly organized in an SQL database.\n",
    "\n",
    "I've decided to answer the following questions:\n",
    "\n",
    "1. Which teams have had the best league seasons between 2008 and 2016 (top 3 teams)?\n",
    "2. Which teams have had the biggest improvement in that time span\n",
    "3. Is there a relationship between the team's performance and the Team Attributes. The database on Kaggle contains team attributes which are scraped from http://sofifa.com/team  . This website aggregates and saves data from the very popular EA Sports FIFA video game series which is available on gaming platforms such as XBOX and Playstation\n",
    "4. As a continuation of question 3, can we extract this data for specific leagues and visualize these results.\n",
    "\n",
    "The analysis results, as well as the code used for the analysis can be found below."
   ]
  },
  {
   "cell_type": "markdown",
   "metadata": {},
   "source": [
    "To start off the analysis, we need to import the right classes into our Jupyter notebook. I also used SQLite and exported the CSV file to read in here. The SQL commands are shown throughout the code but commented out. The Pandas Library in python allows us to properly read and start analyzing the dataset\n",
    "\n",
    "all_matches_scores.csv was created from the following command:\n",
    "\n",
    "Select id, country_id, league_id, season, stage, date, match_api_id, home_team_api_id, away_team_api_id, home_team_goal,\n",
    "away_team_goal\n",
    "From match\n",
    "\n"
   ]
  },
  {
   "cell_type": "code",
   "execution_count": 1,
   "metadata": {},
   "outputs": [
    {
     "name": "stdout",
     "output_type": "stream",
     "text": [
      "<class 'pandas.core.frame.DataFrame'>\n",
      "RangeIndex: 25979 entries, 0 to 25978\n",
      "Data columns (total 11 columns):\n",
      "id                  25979 non-null int64\n",
      "country_id          25979 non-null int64\n",
      "league_id           25979 non-null int64\n",
      "season              25979 non-null object\n",
      "stage               25979 non-null int64\n",
      "date                25979 non-null object\n",
      "match_api_id        25979 non-null int64\n",
      "home_team_api_id    25979 non-null int64\n",
      "away_team_api_id    25979 non-null int64\n",
      "home_team_goal      25979 non-null int64\n",
      "away_team_goal      25979 non-null int64\n",
      "dtypes: int64(9), object(2)\n",
      "memory usage: 2.2+ MB\n"
     ]
    }
   ],
   "source": [
    "import pandas as pd\n",
    "import numpy as np\n",
    "import matplotlib.pyplot as plt\n",
    "import seaborn as sns\n",
    "%matplotlib inline\n",
    "\n",
    "df= pd.read_csv('all_matches_scores.csv')         \n",
    "df.info()    #this command shows us a summary of the DataFrame"
   ]
  },
  {
   "cell_type": "markdown",
   "metadata": {},
   "source": [
    "The .info() command shows us a summary of the DataFrame, since there are 25979 entries and every column contains the same amount of entries, we know that the table is properly filled out with no missing information. Next I will check for any duplicated entries. From the .info() we can tell there are 25979 rows and 11 columns, we can also utilise the df.shape command which will give us the same result. By the way, each row represents a different football match!"
   ]
  },
  {
   "cell_type": "code",
   "execution_count": 2,
   "metadata": {},
   "outputs": [
    {
     "data": {
      "text/plain": [
       "0"
      ]
     },
     "execution_count": 2,
     "metadata": {},
     "output_type": "execute_result"
    }
   ],
   "source": [
    "#confirming that there are no duplicates\n",
    "sum(df.duplicated())"
   ]
  },
  {
   "cell_type": "code",
   "execution_count": 3,
   "metadata": {},
   "outputs": [
    {
     "data": {
      "text/html": [
       "<div>\n",
       "<style scoped>\n",
       "    .dataframe tbody tr th:only-of-type {\n",
       "        vertical-align: middle;\n",
       "    }\n",
       "\n",
       "    .dataframe tbody tr th {\n",
       "        vertical-align: top;\n",
       "    }\n",
       "\n",
       "    .dataframe thead th {\n",
       "        text-align: right;\n",
       "    }\n",
       "</style>\n",
       "<table border=\"1\" class=\"dataframe\">\n",
       "  <thead>\n",
       "    <tr style=\"text-align: right;\">\n",
       "      <th></th>\n",
       "      <th>id</th>\n",
       "      <th>country_id</th>\n",
       "      <th>league_id</th>\n",
       "      <th>season</th>\n",
       "      <th>stage</th>\n",
       "      <th>date</th>\n",
       "      <th>match_api_id</th>\n",
       "      <th>home_team_api_id</th>\n",
       "      <th>away_team_api_id</th>\n",
       "      <th>home_team_goal</th>\n",
       "      <th>away_team_goal</th>\n",
       "    </tr>\n",
       "  </thead>\n",
       "  <tbody>\n",
       "    <tr>\n",
       "      <th>0</th>\n",
       "      <td>1</td>\n",
       "      <td>1</td>\n",
       "      <td>1</td>\n",
       "      <td>2008/2009</td>\n",
       "      <td>1</td>\n",
       "      <td>2008-08-17 00:00:00</td>\n",
       "      <td>492473</td>\n",
       "      <td>9987</td>\n",
       "      <td>9993</td>\n",
       "      <td>1</td>\n",
       "      <td>1</td>\n",
       "    </tr>\n",
       "    <tr>\n",
       "      <th>1</th>\n",
       "      <td>2</td>\n",
       "      <td>1</td>\n",
       "      <td>1</td>\n",
       "      <td>2008/2009</td>\n",
       "      <td>1</td>\n",
       "      <td>2008-08-16 00:00:00</td>\n",
       "      <td>492474</td>\n",
       "      <td>10000</td>\n",
       "      <td>9994</td>\n",
       "      <td>0</td>\n",
       "      <td>0</td>\n",
       "    </tr>\n",
       "    <tr>\n",
       "      <th>2</th>\n",
       "      <td>3</td>\n",
       "      <td>1</td>\n",
       "      <td>1</td>\n",
       "      <td>2008/2009</td>\n",
       "      <td>1</td>\n",
       "      <td>2008-08-16 00:00:00</td>\n",
       "      <td>492475</td>\n",
       "      <td>9984</td>\n",
       "      <td>8635</td>\n",
       "      <td>0</td>\n",
       "      <td>3</td>\n",
       "    </tr>\n",
       "  </tbody>\n",
       "</table>\n",
       "</div>"
      ],
      "text/plain": [
       "   id  country_id  league_id     season  stage                 date  \\\n",
       "0   1           1          1  2008/2009      1  2008-08-17 00:00:00   \n",
       "1   2           1          1  2008/2009      1  2008-08-16 00:00:00   \n",
       "2   3           1          1  2008/2009      1  2008-08-16 00:00:00   \n",
       "\n",
       "   match_api_id  home_team_api_id  away_team_api_id  home_team_goal  \\\n",
       "0        492473              9987              9993               1   \n",
       "1        492474             10000              9994               0   \n",
       "2        492475              9984              8635               0   \n",
       "\n",
       "   away_team_goal  \n",
       "0               1  \n",
       "1               0  \n",
       "2               3  "
      ]
     },
     "execution_count": 3,
     "metadata": {},
     "output_type": "execute_result"
    }
   ],
   "source": [
    "df.head(3)"
   ]
  },
  {
   "cell_type": "markdown",
   "metadata": {},
   "source": [
    "Since the original database does not indicate which teams won a specific game, I decided to add 2 columns in the dataframe 'df' \n",
    "which track the result for the Home Team and Away Team"
   ]
  },
  {
   "cell_type": "code",
   "execution_count": 4,
   "metadata": {},
   "outputs": [
    {
     "name": "stdout",
     "output_type": "stream",
     "text": [
      "Complete\n"
     ]
    }
   ],
   "source": [
    "df.at[df['home_team_goal']>df['away_team_goal'],'Home_Team_Result'] =  'Win'\n",
    "df.at[df['home_team_goal']>df['away_team_goal'],'Away_Team_Result'] = 'Loss'\n",
    "\n",
    "df.at[df['home_team_goal']<df['away_team_goal'],'Home_Team_Result'] =  'Loss'\n",
    "df.at[df['home_team_goal']<df['away_team_goal'],'Away_Team_Result'] = 'Win'\n",
    "\n",
    "df.at[df['home_team_goal']== df['away_team_goal'],'Home_Team_Result'] =  'Draw'\n",
    "df.at[df['home_team_goal']==df['away_team_goal'],'Away_Team_Result'] =  'Draw'\n",
    "\n",
    "print('Complete')"
   ]
  },
  {
   "cell_type": "markdown",
   "metadata": {},
   "source": [
    "After going through every row and indicating the result for the Home and Away Team, its time to sort and combine these results.\n",
    "In order to do this, I created 2 new tables. \n",
    "\n",
    "The first table, home_team_results counts the amount of \"Wins\" \"Loss\" and \"Draws\" for EVERY TEAM in EVERY SEASON\n",
    "The second table, away_team_results counts the same match outcomes for the away team in every match."
   ]
  },
  {
   "cell_type": "code",
   "execution_count": 5,
   "metadata": {},
   "outputs": [
    {
     "data": {
      "text/html": [
       "<div>\n",
       "<style scoped>\n",
       "    .dataframe tbody tr th:only-of-type {\n",
       "        vertical-align: middle;\n",
       "    }\n",
       "\n",
       "    .dataframe tbody tr th {\n",
       "        vertical-align: top;\n",
       "    }\n",
       "\n",
       "    .dataframe thead th {\n",
       "        text-align: right;\n",
       "    }\n",
       "</style>\n",
       "<table border=\"1\" class=\"dataframe\">\n",
       "  <thead>\n",
       "    <tr style=\"text-align: right;\">\n",
       "      <th></th>\n",
       "      <th></th>\n",
       "      <th></th>\n",
       "      <th>Home_Team_Result</th>\n",
       "      <th>Away_Team_Result</th>\n",
       "    </tr>\n",
       "  </thead>\n",
       "  <tbody>\n",
       "    <tr>\n",
       "      <th rowspan=\"6\" valign=\"top\">1601</th>\n",
       "      <th rowspan=\"3\" valign=\"top\">2008/2009</th>\n",
       "      <th>Draw</th>\n",
       "      <td>3.0</td>\n",
       "      <td>4.0</td>\n",
       "    </tr>\n",
       "    <tr>\n",
       "      <th>Loss</th>\n",
       "      <td>6.0</td>\n",
       "      <td>8.0</td>\n",
       "    </tr>\n",
       "    <tr>\n",
       "      <th>Win</th>\n",
       "      <td>6.0</td>\n",
       "      <td>3.0</td>\n",
       "    </tr>\n",
       "    <tr>\n",
       "      <th rowspan=\"3\" valign=\"top\">2009/2010</th>\n",
       "      <th>Draw</th>\n",
       "      <td>2.0</td>\n",
       "      <td>3.0</td>\n",
       "    </tr>\n",
       "    <tr>\n",
       "      <th>Loss</th>\n",
       "      <td>3.0</td>\n",
       "      <td>6.0</td>\n",
       "    </tr>\n",
       "    <tr>\n",
       "      <th>Win</th>\n",
       "      <td>10.0</td>\n",
       "      <td>6.0</td>\n",
       "    </tr>\n",
       "  </tbody>\n",
       "</table>\n",
       "</div>"
      ],
      "text/plain": [
       "                     Home_Team_Result  Away_Team_Result\n",
       "1601 2008/2009 Draw               3.0               4.0\n",
       "               Loss               6.0               8.0\n",
       "               Win                6.0               3.0\n",
       "     2009/2010 Draw               2.0               3.0\n",
       "               Loss               3.0               6.0\n",
       "               Win               10.0               6.0"
      ]
     },
     "execution_count": 5,
     "metadata": {},
     "output_type": "execute_result"
    }
   ],
   "source": [
    "table2 =  df.groupby(['home_team_api_id','season'])\n",
    "home_team_results = table2.Home_Team_Result.value_counts(sort=False)\n",
    "\n",
    "table3 = df.groupby(['away_team_api_id','season'])\n",
    "away_team_results = table3.Away_Team_Result.value_counts(sort=False)\n",
    "\n",
    "combined = pd.concat([home_team_results, away_team_results], axis = 1)\n",
    "\n",
    "combined.head(6)\n"
   ]
  },
  {
   "cell_type": "markdown",
   "metadata": {},
   "source": [
    "As we can see above, the dataframe 'combined' contains a team id (the 1601) a season ID (2008/2009 and 2009/2010) and the result for the team when it plays at Home and on the road (away_team_result). 'combined' contains this information for every single team. "
   ]
  },
  {
   "cell_type": "code",
   "execution_count": 6,
   "metadata": {},
   "outputs": [
    {
     "name": "stdout",
     "output_type": "stream",
     "text": [
      "<class 'pandas.core.frame.DataFrame'>\n",
      "MultiIndex: 4437 entries, (1601, 2008/2009, Draw) to (274581, 2015/2016, Win)\n",
      "Data columns (total 2 columns):\n",
      "Home_Team_Result    4373 non-null float64\n",
      "Away_Team_Result    4401 non-null float64\n",
      "dtypes: float64(2)\n",
      "memory usage: 89.1+ KB\n"
     ]
    }
   ],
   "source": [
    "combined.info()"
   ]
  },
  {
   "cell_type": "markdown",
   "metadata": {},
   "source": [
    "As we can see above from the combined.info(), there are 4437 different rows, but only 4373 non-null results under the Home_Team_Result and 4373 under the Away_Team_Result. This is because between 2008 and 2016, there are teams which recorded a win, loss or draw at home but never got one of those results on the road or vice versa. This error came apparent after the .concat method. To fix this, i've replaced the NaN values with 0 below."
   ]
  },
  {
   "cell_type": "code",
   "execution_count": 7,
   "metadata": {},
   "outputs": [
    {
     "data": {
      "text/html": [
       "<div>\n",
       "<style scoped>\n",
       "    .dataframe tbody tr th:only-of-type {\n",
       "        vertical-align: middle;\n",
       "    }\n",
       "\n",
       "    .dataframe tbody tr th {\n",
       "        vertical-align: top;\n",
       "    }\n",
       "\n",
       "    .dataframe thead th {\n",
       "        text-align: right;\n",
       "    }\n",
       "</style>\n",
       "<table border=\"1\" class=\"dataframe\">\n",
       "  <thead>\n",
       "    <tr style=\"text-align: right;\">\n",
       "      <th></th>\n",
       "      <th></th>\n",
       "      <th></th>\n",
       "      <th>Home_Team_Result</th>\n",
       "      <th>Away_Team_Result</th>\n",
       "    </tr>\n",
       "  </thead>\n",
       "  <tbody>\n",
       "    <tr>\n",
       "      <th>1957</th>\n",
       "      <th>2008/2009</th>\n",
       "      <th>Win</th>\n",
       "      <td>9.0</td>\n",
       "      <td>NaN</td>\n",
       "    </tr>\n",
       "    <tr>\n",
       "      <th>7788</th>\n",
       "      <th>2013/2014</th>\n",
       "      <th>Win</th>\n",
       "      <td>10.0</td>\n",
       "      <td>NaN</td>\n",
       "    </tr>\n",
       "    <tr>\n",
       "      <th>7844</th>\n",
       "      <th>2011/2012</th>\n",
       "      <th>Draw</th>\n",
       "      <td>3.0</td>\n",
       "      <td>NaN</td>\n",
       "    </tr>\n",
       "  </tbody>\n",
       "</table>\n",
       "</div>"
      ],
      "text/plain": [
       "                     Home_Team_Result  Away_Team_Result\n",
       "1957 2008/2009 Win                9.0               NaN\n",
       "7788 2013/2014 Win               10.0               NaN\n",
       "7844 2011/2012 Draw               3.0               NaN"
      ]
     },
     "execution_count": 7,
     "metadata": {},
     "output_type": "execute_result"
    }
   ],
   "source": [
    "combined[combined.isnull().any(axis=1)].head(3)"
   ]
  },
  {
   "cell_type": "code",
   "execution_count": 8,
   "metadata": {},
   "outputs": [
    {
     "data": {
      "text/html": [
       "<div>\n",
       "<style scoped>\n",
       "    .dataframe tbody tr th:only-of-type {\n",
       "        vertical-align: middle;\n",
       "    }\n",
       "\n",
       "    .dataframe tbody tr th {\n",
       "        vertical-align: top;\n",
       "    }\n",
       "\n",
       "    .dataframe thead th {\n",
       "        text-align: right;\n",
       "    }\n",
       "</style>\n",
       "<table border=\"1\" class=\"dataframe\">\n",
       "  <thead>\n",
       "    <tr style=\"text-align: right;\">\n",
       "      <th></th>\n",
       "      <th></th>\n",
       "      <th></th>\n",
       "      <th>Home_Team_Result</th>\n",
       "      <th>Away_Team_Result</th>\n",
       "    </tr>\n",
       "  </thead>\n",
       "  <tbody>\n",
       "  </tbody>\n",
       "</table>\n",
       "</div>"
      ],
      "text/plain": [
       "Empty DataFrame\n",
       "Columns: [Home_Team_Result, Away_Team_Result]\n",
       "Index: []"
      ]
     },
     "execution_count": 8,
     "metadata": {},
     "output_type": "execute_result"
    }
   ],
   "source": [
    "#Replacing the NaN values with 0\n",
    "combined['Home_Team_Result'].fillna(0, inplace=True)\n",
    "\n",
    "combined['Away_Team_Result'].fillna(0, inplace=True)\n",
    "\n",
    "\n",
    "# and to confirm everything is done we need the ouput below to show nothing which is what we get:\n",
    "combined[combined.isnull().any(axis=1)]"
   ]
  },
  {
   "cell_type": "code",
   "execution_count": 9,
   "metadata": {
    "scrolled": true
   },
   "outputs": [
    {
     "name": "stdout",
     "output_type": "stream",
     "text": [
      "<class 'pandas.core.frame.DataFrame'>\n",
      "MultiIndex: 4437 entries, (1601, 2008/2009, Draw) to (274581, 2015/2016, Win)\n",
      "Data columns (total 2 columns):\n",
      "Home_Team_Result    4437 non-null float64\n",
      "Away_Team_Result    4437 non-null float64\n",
      "dtypes: float64(2)\n",
      "memory usage: 89.1+ KB\n"
     ]
    }
   ],
   "source": [
    "#and finally\n",
    "combined.info() #we can see that everything is clear now"
   ]
  },
  {
   "cell_type": "markdown",
   "metadata": {},
   "source": [
    "There was another error in my code which I had to resolve. This time, there were a few teams that never recorded a draw or a loss during the whole season. Code included below to visualize/understand the bug"
   ]
  },
  {
   "cell_type": "code",
   "execution_count": 10,
   "metadata": {},
   "outputs": [
    {
     "name": "stdout",
     "output_type": "stream",
     "text": [
      "4437\n"
     ]
    },
    {
     "data": {
      "text/plain": [
       "Win     1481\n",
       "Draw    1479\n",
       "Loss    1477\n",
       "Name: col, dtype: int64"
      ]
     },
     "execution_count": 10,
     "metadata": {},
     "output_type": "execute_result"
    }
   ],
   "source": [
    "positions=combined.index.tolist()\n",
    "\n",
    "a = 0\n",
    "list2=[]\n",
    "print(len(positions))\n",
    "while a < len(positions):\n",
    "    \n",
    "    list2.append(positions[a][2])\n",
    "    a=a+1\n",
    "\n",
    "df2 = pd.DataFrame({'col':list2})\n",
    "\n",
    "\n",
    "df2.head()\n",
    "df2.col.value_counts()\n",
    "#Need to make sure every index has all 3 at least"
   ]
  },
  {
   "cell_type": "markdown",
   "metadata": {},
   "source": [
    "As you can see, we have 1481 indexes for Win, 1479 for Draws and 1477 for Loss....\n",
    "\n",
    "To avoid bugs in my code, I will create the missing indices and give them a value of 0. The process was a bit tricky since 'combined' is a multi-index dataframe (since you are able to sort it by team_id, season and result), so I just ran a loop"
   ]
  },
  {
   "cell_type": "code",
   "execution_count": 11,
   "metadata": {},
   "outputs": [
    {
     "name": "stdout",
     "output_type": "stream",
     "text": [
      "Completed\n"
     ]
    },
    {
     "name": "stderr",
     "output_type": "stream",
     "text": [
      "C:\\ProgramData\\Anaconda3\\lib\\site-packages\\IPython\\core\\async_helpers.py:67: PerformanceWarning: indexing past lexsort depth may impact performance.\n",
      "  coro.send(None)\n"
     ]
    }
   ],
   "source": [
    "positions=combined.index.tolist()\n",
    "a=0\n",
    "\n",
    "while a < len(positions):\n",
    "    b= (positions[a][0], positions[a][1],'Win')\n",
    "    c= (positions[a][0], positions[a][1],'Loss')\n",
    "    d= (positions[a][0], positions[a][1],'Draw')\n",
    "    if b not in combined.index:\n",
    "        combined.at[b,'Home_Team_Result'] = 0.0\n",
    "        combined.at[b,'Away_Team_Result'] = 0.0\n",
    "    if c not in combined.index:\n",
    "        combined.at[c,'Home_Team_Result'] = 0.0\n",
    "        combined.at[c,'Away_Team_Result'] = 0.0\n",
    "    if d not in combined.index:\n",
    "        combined.at[d,'Home_Team_Result'] = 0.0\n",
    "        combined.at[d,'Away_Team_Result'] = 0.0\n",
    "    a= a+1\n",
    "\n",
    "print('Completed')"
   ]
  },
  {
   "cell_type": "markdown",
   "metadata": {},
   "source": [
    "At this stage, we have the home and away records (Wins, Loss, and Draw) for every team in the database and for every Season.\n",
    "Below, I combined these results and trimmed the table."
   ]
  },
  {
   "cell_type": "code",
   "execution_count": 12,
   "metadata": {},
   "outputs": [],
   "source": [
    "combined['Total_Record'] = combined['Home_Team_Result'] + combined['Away_Team_Result']\n",
    "\n",
    "#and finally drop the first 2 columsn\n",
    "\n",
    "combined.drop(['Home_Team_Result','Away_Team_Result'], axis=1, inplace=True)\n"
   ]
  },
  {
   "cell_type": "markdown",
   "metadata": {},
   "source": [
    "# Answering our first question: Which teams have had the best league seasons between 2008 and 2016 (top 3 teams)?"
   ]
  },
  {
   "cell_type": "markdown",
   "metadata": {},
   "source": [
    "__I decided to classify the teams and their performance with regards to how many Points Per game they got__. This was an important step because certain teams play more matches then others... for example: the English teams in the Premier League play 38 games per season while the teams in the Belgium Jupiler League only play 30. It would not be fair and accurate to compare the amount of wins or points if some teams play more games then others. \n",
    "\n",
    "I decided to normalize 'Win, Loss And Draw' indexes and then award 3 points for a win, 1 for a draw and 0 for a loss as is done in European Football. The result is saved in a new DataFrame called Team_Points"
   ]
  },
  {
   "cell_type": "code",
   "execution_count": 13,
   "metadata": {
    "scrolled": true
   },
   "outputs": [
    {
     "name": "stderr",
     "output_type": "stream",
     "text": [
      "C:\\ProgramData\\Anaconda3\\lib\\site-packages\\ipykernel_launcher.py:10: SettingWithCopyWarning: \n",
      "A value is trying to be set on a copy of a slice from a DataFrame.\n",
      "Try using .loc[row_indexer,col_indexer] = value instead\n",
      "\n",
      "See the caveats in the documentation: http://pandas.pydata.org/pandas-docs/stable/indexing.html#indexing-view-versus-copy\n",
      "  # Remove the CWD from sys.path while we load stuff.\n"
     ]
    },
    {
     "name": "stdout",
     "output_type": "stream",
     "text": [
      "Completed\n"
     ]
    }
   ],
   "source": [
    "#This was by far one of the hardest parts in the project, I had to iterate through a multi-index dataframe while\n",
    "#normalizing (adding the Wins Losses and Draws for every team in every season and finding its proportion with regards to 1)\n",
    "#After normalizing, I awarded 3 points for a win 1 for a draw and 0 for a loss, that is accomplished below in the loops\n",
    "\n",
    "\n",
    "i=0\n",
    "Team_Points=pd.DataFrame(columns=('team_id', 'season', 'points per game'))\n",
    "for a, new_df in combined.groupby(level=0):\n",
    "    for b, new_df2 in new_df.groupby(level=1):\n",
    "        new_df2['Total_Record']= new_df2['Total_Record']/sum(new_df2['Total_Record'])\n",
    "        positions = new_df2.index.tolist()\n",
    "\n",
    "        Team_Points.at[i,'team_id']= positions[0][0]\n",
    "        Team_Points.at[i,'season']= positions[0][1]\n",
    "        Team_Points.at[i,'points per game']= new_df2['Total_Record'][positions[0][0]][positions[0][1]]['Win'] *3 + new_df2['Total_Record'][positions[0][0]][positions[0][1]]['Draw'] *1\n",
    "        i=i+1\n",
    "                                                                                                             \n",
    "print('Completed')\n",
    "#takes 45 secs"
   ]
  },
  {
   "cell_type": "code",
   "execution_count": 14,
   "metadata": {},
   "outputs": [
    {
     "data": {
      "text/html": [
       "<div>\n",
       "<style scoped>\n",
       "    .dataframe tbody tr th:only-of-type {\n",
       "        vertical-align: middle;\n",
       "    }\n",
       "\n",
       "    .dataframe tbody tr th {\n",
       "        vertical-align: top;\n",
       "    }\n",
       "\n",
       "    .dataframe thead th {\n",
       "        text-align: right;\n",
       "    }\n",
       "</style>\n",
       "<table border=\"1\" class=\"dataframe\">\n",
       "  <thead>\n",
       "    <tr style=\"text-align: right;\">\n",
       "      <th></th>\n",
       "      <th>team_id</th>\n",
       "      <th>season</th>\n",
       "      <th>points per game</th>\n",
       "    </tr>\n",
       "  </thead>\n",
       "  <tbody>\n",
       "    <tr>\n",
       "      <th>0</th>\n",
       "      <td>1601</td>\n",
       "      <td>2008/2009</td>\n",
       "      <td>1.13333</td>\n",
       "    </tr>\n",
       "    <tr>\n",
       "      <th>1</th>\n",
       "      <td>1601</td>\n",
       "      <td>2009/2010</td>\n",
       "      <td>1.76667</td>\n",
       "    </tr>\n",
       "    <tr>\n",
       "      <th>2</th>\n",
       "      <td>1601</td>\n",
       "      <td>2010/2011</td>\n",
       "      <td>1.26667</td>\n",
       "    </tr>\n",
       "    <tr>\n",
       "      <th>3</th>\n",
       "      <td>1601</td>\n",
       "      <td>2011/2012</td>\n",
       "      <td>1.83333</td>\n",
       "    </tr>\n",
       "    <tr>\n",
       "      <th>4</th>\n",
       "      <td>1601</td>\n",
       "      <td>2012/2013</td>\n",
       "      <td>1.03333</td>\n",
       "    </tr>\n",
       "  </tbody>\n",
       "</table>\n",
       "</div>"
      ],
      "text/plain": [
       "  team_id     season points per game\n",
       "0    1601  2008/2009         1.13333\n",
       "1    1601  2009/2010         1.76667\n",
       "2    1601  2010/2011         1.26667\n",
       "3    1601  2011/2012         1.83333\n",
       "4    1601  2012/2013         1.03333"
      ]
     },
     "execution_count": 14,
     "metadata": {},
     "output_type": "execute_result"
    }
   ],
   "source": [
    "Team_Points.head()"
   ]
  },
  {
   "cell_type": "code",
   "execution_count": 15,
   "metadata": {},
   "outputs": [],
   "source": [
    "Team_Points.sort_values(by=['points per game'], inplace=True, ascending=False)"
   ]
  },
  {
   "cell_type": "markdown",
   "metadata": {},
   "source": [
    "Our Answer below"
   ]
  },
  {
   "cell_type": "code",
   "execution_count": 16,
   "metadata": {},
   "outputs": [
    {
     "data": {
      "text/html": [
       "<div>\n",
       "<style scoped>\n",
       "    .dataframe tbody tr th:only-of-type {\n",
       "        vertical-align: middle;\n",
       "    }\n",
       "\n",
       "    .dataframe tbody tr th {\n",
       "        vertical-align: top;\n",
       "    }\n",
       "\n",
       "    .dataframe thead th {\n",
       "        text-align: right;\n",
       "    }\n",
       "</style>\n",
       "<table border=\"1\" class=\"dataframe\">\n",
       "  <thead>\n",
       "    <tr style=\"text-align: right;\">\n",
       "      <th></th>\n",
       "      <th>team_id</th>\n",
       "      <th>season</th>\n",
       "      <th>points per game</th>\n",
       "    </tr>\n",
       "  </thead>\n",
       "  <tbody>\n",
       "    <tr>\n",
       "      <th>807</th>\n",
       "      <td>9773</td>\n",
       "      <td>2010/2011</td>\n",
       "      <td>2.8</td>\n",
       "    </tr>\n",
       "    <tr>\n",
       "      <th>1057</th>\n",
       "      <td>9885</td>\n",
       "      <td>2013/2014</td>\n",
       "      <td>2.68421</td>\n",
       "    </tr>\n",
       "    <tr>\n",
       "      <th>894</th>\n",
       "      <td>9823</td>\n",
       "      <td>2012/2013</td>\n",
       "      <td>2.67647</td>\n",
       "    </tr>\n",
       "  </tbody>\n",
       "</table>\n",
       "</div>"
      ],
      "text/plain": [
       "     team_id     season points per game\n",
       "807     9773  2010/2011             2.8\n",
       "1057    9885  2013/2014         2.68421\n",
       "894     9823  2012/2013         2.67647"
      ]
     },
     "execution_count": 16,
     "metadata": {},
     "output_type": "execute_result"
    }
   ],
   "source": [
    "Team_Points.head(3)"
   ]
  },
  {
   "cell_type": "markdown",
   "metadata": {},
   "source": [
    "As we can see:\n",
    "team_id 9773 received an average of 2.8 points per game during the 2010/2011\n",
    "team_id 9885 received an average of 2.84 points per game in 2013/2014\n",
    "team_id 9823 received an average of 2.676 points per game in 2012/2013\n",
    "\n",
    "Next I will call the function team_name 3 times to print out the team's proper name to conclude our first question"
   ]
  },
  {
   "cell_type": "code",
   "execution_count": 17,
   "metadata": {},
   "outputs": [],
   "source": [
    "#SQL Code\n",
    "#Select team_api_id, team_long_name\n",
    "#From Team\n",
    "\n",
    "team_names=pd.read_csv('team_names.csv')\n",
    "team_names.set_index('team_api_id',inplace=True)\n",
    "\n",
    "#function that returns the team name, requires the team_id\n",
    "def team_name(team_id):     \n",
    "    return team_names['team_long_name'][team_id]\n"
   ]
  },
  {
   "cell_type": "code",
   "execution_count": 18,
   "metadata": {},
   "outputs": [
    {
     "name": "stdout",
     "output_type": "stream",
     "text": [
      "team_id 9773 is FC Porto they received an average of 2.8 points per game during 2010/2011 season\n",
      "team_id 9885 is Juventus they received an average of 2.684 points per game during the 2013/2014 season\n",
      "team_id 9823 is FC Bayern Munich they received an average of 2.676 points per game during the 2012/2013 season\n"
     ]
    }
   ],
   "source": [
    "print('team_id 9773 is', team_name(9773),'they received an average of 2.8 points per game during 2010/2011 season')     \n",
    "print('team_id 9885 is', team_name(9885),'they received an average of 2.684 points per game during the 2013/2014 season')\n",
    "print('team_id 9823 is', team_name(9823),'they received an average of 2.676 points per game during the 2012/2013 season')"
   ]
  },
  {
   "cell_type": "markdown",
   "metadata": {},
   "source": [
    "Confirming the results:\n",
    "\n",
    "A quick google search confirms our results:\n",
    "For FC porto, they played 30 games that year, won 27 and had 3 draws, that amounts to 84 points,which is 2.8 points per game\n",
    "https://en.wikipedia.org/wiki/2010%E2%80%9311_FC_Porto_season#Results_summary\n",
    "\n",
    "For Juventus\n",
    "They had 33wins 3 draws and 2 losses, so 33*3 + 3 = 102points,    102 points in 38 games is  2.64 points per game   https://en.wikipedia.org/wiki/2013%E2%80%9314_Juventus_F.C._season#Results_summary\n",
    "\n",
    "For Bayern Munich:\n",
    "They played a total of 34 league matches, winning 29 drawing 4 and losing 1 match, that is 29*3 + 4= 91   91 points in 34 games which is 2.676 points per game\n",
    "https://en.wikipedia.org/wiki/2012%E2%80%9313_FC_Bayern_Munich_season#Results_summary"
   ]
  },
  {
   "cell_type": "markdown",
   "metadata": {},
   "source": [
    "# Question 2: Which teams have had the biggest improvement after a poor season?\n",
    "\n",
    "To answer this question, I grouped Team_Points by their team IDs and ran a simple .max() and .min() function through every series. Since I was looking for team improvements, I had to make sure the team earned more 'points per game' in a later season.\n",
    "\n",
    "I made 2 functions in order to cut down on the  amount of code, they extract the row where the team had the best and worst season"
   ]
  },
  {
   "cell_type": "code",
   "execution_count": 19,
   "metadata": {},
   "outputs": [],
   "source": [
    "def check_max(sr):   #sr stands for seasonal results, its a table in the form of col= {'seasons', 'points per game'}\n",
    "    sr['ind']=sr.index   #necessary to preserve index, as the result it converted into a 'pandas series and the indexing gets lost'\n",
    "    return sr[sr['points per game'] == sr['points per game'].max()].iloc[-1]    #returns the latest result so needs .iloc[-1]\n",
    "\n",
    "def check_min(sr):\n",
    "    sr['ind']=sr.index\n",
    "    return sr[sr['points per game'] == sr['points per game'].min()].iloc[0]"
   ]
  },
  {
   "cell_type": "code",
   "execution_count": 20,
   "metadata": {},
   "outputs": [
    {
     "name": "stderr",
     "output_type": "stream",
     "text": [
      "C:\\ProgramData\\Anaconda3\\lib\\site-packages\\ipykernel_launcher.py:2: SettingWithCopyWarning: \n",
      "A value is trying to be set on a copy of a slice from a DataFrame.\n",
      "Try using .loc[row_indexer,col_indexer] = value instead\n",
      "\n",
      "See the caveats in the documentation: http://pandas.pydata.org/pandas-docs/stable/indexing.html#indexing-view-versus-copy\n",
      "  \n",
      "C:\\ProgramData\\Anaconda3\\lib\\site-packages\\ipykernel_launcher.py:6: SettingWithCopyWarning: \n",
      "A value is trying to be set on a copy of a slice from a DataFrame.\n",
      "Try using .loc[row_indexer,col_indexer] = value instead\n",
      "\n",
      "See the caveats in the documentation: http://pandas.pydata.org/pandas-docs/stable/indexing.html#indexing-view-versus-copy\n",
      "  \n"
     ]
    },
    {
     "name": "stdout",
     "output_type": "stream",
     "text": [
      "Completed\n"
     ]
    }
   ],
   "source": [
    "#Finding teams that improved the most\n",
    "\n",
    "Grouped_by_team=Team_Points.groupby(['team_id'])\n",
    "teams = Grouped_by_team.nunique().index.tolist()\n",
    "\n",
    "best_difference = 0\n",
    "most_improved_team_id = 0\n",
    "seasons=[\"\",\"\"]\n",
    "for team in teams:  #iterates through the team indexes\n",
    "    sr = Grouped_by_team.get_group(team)  #sr stands for seasonal_results\n",
    "    max_row=check_max(sr)\n",
    "    min_row=check_min(sr)\n",
    "    \n",
    "    if (max_row['ind'] > min_row['ind']): #confirms that the team improved in a later year \n",
    "        if (max_row['points per game']-  min_row['points per game'] ) > best_difference:\n",
    "            best_difference = max_row['points per game'] - min_row['points per game']\n",
    "            most_improved_team_id = team\n",
    "            seasons[0] = min_row['season']\n",
    "            seasons[1] = max_row['season']\n",
    "\n",
    "\n",
    "print('Completed')\n",
    "#takes about 45 secs to run"
   ]
  },
  {
   "cell_type": "code",
   "execution_count": 21,
   "metadata": {},
   "outputs": [
    {
     "name": "stdout",
     "output_type": "stream",
     "text": [
      "The most improved team is:  Paris Saint-Germain \n",
      "They improved by 1.289 points per game between the 2009/2010 and  2015/2016 seasons, the biggest change amongst all the teams!\n",
      "\n",
      "1.289 points per game accounts for 49 extra points since teams in Ligue 1 play 38 matches per season\n"
     ]
    }
   ],
   "source": [
    "print('The most improved team is: ',team_name(most_improved_team_id), '\\nThey improved by {0:.3f}'.format(best_difference), 'points per game between the',\n",
    "seasons[0], 'and ', seasons[1], 'seasons, the biggest change amongst all the teams!')\n",
    "\n",
    "print(\"\\n1.289 points per game accounts for 49 extra points since teams in Ligue 1 play 38 matches per season\")"
   ]
  },
  {
   "cell_type": "code",
   "execution_count": 22,
   "metadata": {},
   "outputs": [
    {
     "name": "stderr",
     "output_type": "stream",
     "text": [
      "C:\\ProgramData\\Anaconda3\\lib\\site-packages\\ipykernel_launcher.py:3: SettingWithCopyWarning: \n",
      "A value is trying to be set on a copy of a slice from a DataFrame\n",
      "\n",
      "See the caveats in the documentation: http://pandas.pydata.org/pandas-docs/stable/indexing.html#indexing-view-versus-copy\n",
      "  This is separate from the ipykernel package so we can avoid doing imports until\n"
     ]
    },
    {
     "data": {
      "text/plain": [
       "Text(0.5, 0, 'Seasons')"
      ]
     },
     "execution_count": 22,
     "metadata": {},
     "output_type": "execute_result"
    },
    {
     "data": {
      "image/png": "[encoded data removed]",
      "text/plain": [
       "<Figure size 936x360 with 1 Axes>"
      ]
     },
     "metadata": {
      "needs_background": "light"
     },
     "output_type": "display_data"
    }
   ],
   "source": [
    "psg=Grouped_by_team.get_group(most_improved_team_id)  #psg is the nickname for Paris Saint-Germain\n",
    "\n",
    "psg.sort_values(by=['season'], ascending = True,inplace=True)\n",
    "labels = psg['season']\n",
    "plt.figure(figsize=(13,5))\n",
    "plt.bar(labels, psg['points per game'])\n",
    "plt.title('PSG seasonal performance', fontsize = 18)\n",
    "plt.ylabel('Points Per Game', fontsize = 14)\n",
    "plt.xlabel('Seasons', fontsize = 14)\n"
   ]
  },
  {
   "cell_type": "markdown",
   "metadata": {},
   "source": [
    "# Question 3: Finding a relationship between the team's performance and the Team Attributes (quantitative attributes only). \n",
    "\n",
    "The approach here is to compare the Points Per Game for every team with the quantitative Team Attributes. The team attributes are found in the database and I will be comparing the Points Per game with each attribute, the goal here is to map out the correlation"
   ]
  },
  {
   "cell_type": "code",
   "execution_count": 23,
   "metadata": {},
   "outputs": [
    {
     "name": "stdout",
     "output_type": "stream",
     "text": [
      "Complete\n"
     ]
    }
   ],
   "source": [
    "#in the Database, Sept 10 2015 is for the 2014/2015 season because from the website that gathers this information\n",
    "# https://sofifa.com/teams/hot    this is the last category in the Fifa 15 game so really they are the stats for\n",
    "#the 2014/2015 team\n",
    "\n",
    "# SQL code for team_attributes_2011_2015.csv\n",
    "#Select team_api_id, date, buildUpPlaySpeed, buildUpPlayDribbling, buildUpPlayPassing, chanceCreationPassing, chanceCreationCrossing, chanceCreationShooting, defencePressure, defenceAggression, defenceTeamWidth\n",
    "#From Team_Attributes\n",
    "#Where date like '2013%' or date like '2014%' or date like '2015%' or date like '2012%' or date like '2011%'\n",
    "#Order by team_api_id, date\n",
    "\n",
    "#To avoid any misunderstandings and errors, I've made a copy of Team_Points, Team_Points3 to indicate this is for the 3rd question\n",
    "Team_Points3 = Team_Points.copy()\n",
    "team_attributes_df= pd.read_csv('team_attributes_2011_2015.csv')\n",
    "i = 0\n",
    "team_attributes_df.head()\n",
    "team_attributes_df = team_attributes_df.rename(columns = {'date': 'season_b'})\n",
    "while i< len(team_attributes_df):\n",
    "    if team_attributes_df.loc[i,'season_b'].startswith('2011'):\n",
    "        team_attributes_df.loc[i,'season_b'] = '2010/2011'\n",
    "    if team_attributes_df.loc[i,'season_b'].startswith('2012'):\n",
    "        team_attributes_df.loc[i,'season_b'] = '2011/2012'\n",
    "    if team_attributes_df.loc[i,'season_b'].startswith('2013'):\n",
    "        team_attributes_df.loc[i,'season_b'] = '2012/2013'\n",
    "    if team_attributes_df.loc[i,'season_b'].startswith('2014'):\n",
    "        team_attributes_df.loc[i,'season_b'] = '2013/2014'\n",
    "    if team_attributes_df.loc[i,'season_b'].startswith('2015'):\n",
    "        team_attributes_df.loc[i,'season_b'] = '2014/2015'\n",
    "    i= i +1\n",
    "    \n",
    "print('Complete')"
   ]
  },
  {
   "cell_type": "code",
   "execution_count": 24,
   "metadata": {},
   "outputs": [],
   "source": [
    "#Now I will remove rows from Team_Points2 that arent 2010/2011, 2012/2013, 2013/2014, 2014/2015, 2015/2016\n",
    "Team_Points3 = Team_Points3[(Team_Points3['season'] == '2010/2011') |(Team_Points3['season'] == '2011/2012') |(Team_Points3['season'] == '2012/2013') | (Team_Points3['season'] == '2013/2014') | (Team_Points3['season'] == '2014/2015')] \n"
   ]
  },
  {
   "cell_type": "code",
   "execution_count": 25,
   "metadata": {},
   "outputs": [
    {
     "data": {
      "text/html": [
       "<div>\n",
       "<style scoped>\n",
       "    .dataframe tbody tr th:only-of-type {\n",
       "        vertical-align: middle;\n",
       "    }\n",
       "\n",
       "    .dataframe tbody tr th {\n",
       "        vertical-align: top;\n",
       "    }\n",
       "\n",
       "    .dataframe thead th {\n",
       "        text-align: right;\n",
       "    }\n",
       "</style>\n",
       "<table border=\"1\" class=\"dataframe\">\n",
       "  <thead>\n",
       "    <tr style=\"text-align: right;\">\n",
       "      <th></th>\n",
       "      <th>team_id</th>\n",
       "      <th>season</th>\n",
       "      <th>points per game</th>\n",
       "    </tr>\n",
       "  </thead>\n",
       "  <tbody>\n",
       "    <tr>\n",
       "      <th>807</th>\n",
       "      <td>9773</td>\n",
       "      <td>2010/2011</td>\n",
       "      <td>2.8</td>\n",
       "    </tr>\n",
       "    <tr>\n",
       "      <th>1057</th>\n",
       "      <td>9885</td>\n",
       "      <td>2013/2014</td>\n",
       "      <td>2.68421</td>\n",
       "    </tr>\n",
       "    <tr>\n",
       "      <th>894</th>\n",
       "      <td>9823</td>\n",
       "      <td>2012/2013</td>\n",
       "      <td>2.67647</td>\n",
       "    </tr>\n",
       "    <tr>\n",
       "      <th>895</th>\n",
       "      <td>9823</td>\n",
       "      <td>2013/2014</td>\n",
       "      <td>2.64706</td>\n",
       "    </tr>\n",
       "    <tr>\n",
       "      <th>616</th>\n",
       "      <td>8634</td>\n",
       "      <td>2012/2013</td>\n",
       "      <td>2.63158</td>\n",
       "    </tr>\n",
       "  </tbody>\n",
       "</table>\n",
       "</div>"
      ],
      "text/plain": [
       "     team_id     season points per game\n",
       "807     9773  2010/2011             2.8\n",
       "1057    9885  2013/2014         2.68421\n",
       "894     9823  2012/2013         2.67647\n",
       "895     9823  2013/2014         2.64706\n",
       "616     8634  2012/2013         2.63158"
      ]
     },
     "execution_count": 25,
     "metadata": {},
     "output_type": "execute_result"
    }
   ],
   "source": [
    "Team_Points3.head()"
   ]
  },
  {
   "cell_type": "markdown",
   "metadata": {},
   "source": [
    "Now we can merge Team_Points3 with the Team Attributes, we complete the merge on 2 columns team_id and season"
   ]
  },
  {
   "cell_type": "code",
   "execution_count": 26,
   "metadata": {},
   "outputs": [
    {
     "data": {
      "text/html": [
       "<div>\n",
       "<style scoped>\n",
       "    .dataframe tbody tr th:only-of-type {\n",
       "        vertical-align: middle;\n",
       "    }\n",
       "\n",
       "    .dataframe tbody tr th {\n",
       "        vertical-align: top;\n",
       "    }\n",
       "\n",
       "    .dataframe thead th {\n",
       "        text-align: right;\n",
       "    }\n",
       "</style>\n",
       "<table border=\"1\" class=\"dataframe\">\n",
       "  <thead>\n",
       "    <tr style=\"text-align: right;\">\n",
       "      <th></th>\n",
       "      <th>team_id</th>\n",
       "      <th>season</th>\n",
       "      <th>points per game</th>\n",
       "      <th>team_api_id</th>\n",
       "      <th>season_b</th>\n",
       "      <th>buildUpPlaySpeed</th>\n",
       "      <th>buildUpPlayDribbling</th>\n",
       "      <th>buildUpPlayPassing</th>\n",
       "      <th>chanceCreationPassing</th>\n",
       "      <th>chanceCreationCrossing</th>\n",
       "      <th>chanceCreationShooting</th>\n",
       "      <th>defencePressure</th>\n",
       "      <th>defenceAggression</th>\n",
       "      <th>defenceTeamWidth</th>\n",
       "    </tr>\n",
       "  </thead>\n",
       "  <tbody>\n",
       "    <tr>\n",
       "      <th>0</th>\n",
       "      <td>9773</td>\n",
       "      <td>2010/2011</td>\n",
       "      <td>2.800000</td>\n",
       "      <td>9773</td>\n",
       "      <td>2010/2011</td>\n",
       "      <td>50.0</td>\n",
       "      <td>NaN</td>\n",
       "      <td>50.0</td>\n",
       "      <td>50.0</td>\n",
       "      <td>65.0</td>\n",
       "      <td>65.0</td>\n",
       "      <td>55.0</td>\n",
       "      <td>43.0</td>\n",
       "      <td>65.0</td>\n",
       "    </tr>\n",
       "    <tr>\n",
       "      <th>1</th>\n",
       "      <td>9885</td>\n",
       "      <td>2013/2014</td>\n",
       "      <td>2.684211</td>\n",
       "      <td>9885</td>\n",
       "      <td>2013/2014</td>\n",
       "      <td>26.0</td>\n",
       "      <td>47.0</td>\n",
       "      <td>24.0</td>\n",
       "      <td>64.0</td>\n",
       "      <td>53.0</td>\n",
       "      <td>72.0</td>\n",
       "      <td>23.0</td>\n",
       "      <td>67.0</td>\n",
       "      <td>36.0</td>\n",
       "    </tr>\n",
       "    <tr>\n",
       "      <th>2</th>\n",
       "      <td>9823</td>\n",
       "      <td>2012/2013</td>\n",
       "      <td>2.676471</td>\n",
       "      <td>9823</td>\n",
       "      <td>2012/2013</td>\n",
       "      <td>56.0</td>\n",
       "      <td>NaN</td>\n",
       "      <td>41.0</td>\n",
       "      <td>40.0</td>\n",
       "      <td>44.0</td>\n",
       "      <td>39.0</td>\n",
       "      <td>52.0</td>\n",
       "      <td>54.0</td>\n",
       "      <td>52.0</td>\n",
       "    </tr>\n",
       "  </tbody>\n",
       "</table>\n",
       "</div>"
      ],
      "text/plain": [
       "   team_id     season  points per game  team_api_id   season_b  \\\n",
       "0     9773  2010/2011         2.800000         9773  2010/2011   \n",
       "1     9885  2013/2014         2.684211         9885  2013/2014   \n",
       "2     9823  2012/2013         2.676471         9823  2012/2013   \n",
       "\n",
       "   buildUpPlaySpeed  buildUpPlayDribbling  buildUpPlayPassing  \\\n",
       "0              50.0                   NaN                50.0   \n",
       "1              26.0                  47.0                24.0   \n",
       "2              56.0                   NaN                41.0   \n",
       "\n",
       "   chanceCreationPassing  chanceCreationCrossing  chanceCreationShooting  \\\n",
       "0                   50.0                    65.0                    65.0   \n",
       "1                   64.0                    53.0                    72.0   \n",
       "2                   40.0                    44.0                    39.0   \n",
       "\n",
       "   defencePressure  defenceAggression  defenceTeamWidth  \n",
       "0             55.0               43.0              65.0  \n",
       "1             23.0               67.0              36.0  \n",
       "2             52.0               54.0              52.0  "
      ]
     },
     "execution_count": 26,
     "metadata": {},
     "output_type": "execute_result"
    }
   ],
   "source": [
    "Team_Points3['team_id'] = Team_Points3['team_id'].astype(int)\n",
    "\n",
    "i= 0 \n",
    "\n",
    "new_df = pd.merge(Team_Points3, team_attributes_df, how = 'inner', left_on = ['team_id','season'], right_on = ['team_api_id','season_b'])\n",
    "\n",
    "new_df.iloc[:,2] = new_df.iloc[:,2].astype(float)\n",
    "new_df.iloc[:,5:] = new_df.iloc[:,5:].astype(float)\n",
    "\n",
    "#converted all the data to float to avoid future bugs comparing different datatypes\n",
    "\n",
    "new_df.head(3)"
   ]
  },
  {
   "cell_type": "markdown",
   "metadata": {},
   "source": [
    "Now we itterate through the list of attributes and compare the Team Attributes with the Performance Metric of the Team (Points Per Game). We use Pearson's Correlation Coefficient to discover if any relationships exists. and we can plot a particular characteristic out once a correlation is confirmed\n",
    "\n",
    "Correlation results and meanings:\n",
    "\n",
    "Value of 0: No Correlation\n",
    "\n",
    "-0.29 to +0.29 : Low Degree of Correlation\n",
    "\n",
    "From 0.3 to 0.49 or -0.3 to -0.49: Medium Degree of Correlation\n",
    "\n",
    "from 0.5 to 1 or -0.5 to -1: High Degree of Correlation"
   ]
  },
  {
   "cell_type": "code",
   "execution_count": 27,
   "metadata": {},
   "outputs": [
    {
     "data": {
      "text/html": [
       "<div>\n",
       "<style scoped>\n",
       "    .dataframe tbody tr th:only-of-type {\n",
       "        vertical-align: middle;\n",
       "    }\n",
       "\n",
       "    .dataframe tbody tr th {\n",
       "        vertical-align: top;\n",
       "    }\n",
       "\n",
       "    .dataframe thead th {\n",
       "        text-align: right;\n",
       "    }\n",
       "</style>\n",
       "<table border=\"1\" class=\"dataframe\">\n",
       "  <thead>\n",
       "    <tr style=\"text-align: right;\">\n",
       "      <th></th>\n",
       "      <th>attribute</th>\n",
       "      <th>correlation</th>\n",
       "    </tr>\n",
       "  </thead>\n",
       "  <tbody>\n",
       "    <tr>\n",
       "      <th>0</th>\n",
       "      <td>buildUpPlaySpeed</td>\n",
       "      <td>0.0139125</td>\n",
       "    </tr>\n",
       "    <tr>\n",
       "      <th>1</th>\n",
       "      <td>buildUpPlayDribbling</td>\n",
       "      <td>0.0334862</td>\n",
       "    </tr>\n",
       "    <tr>\n",
       "      <th>2</th>\n",
       "      <td>buildUpPlayPassing</td>\n",
       "      <td>-0.191751</td>\n",
       "    </tr>\n",
       "    <tr>\n",
       "      <th>3</th>\n",
       "      <td>chanceCreationPassing</td>\n",
       "      <td>0.045872</td>\n",
       "    </tr>\n",
       "    <tr>\n",
       "      <th>4</th>\n",
       "      <td>chanceCreationCrossing</td>\n",
       "      <td>0.0677085</td>\n",
       "    </tr>\n",
       "    <tr>\n",
       "      <th>5</th>\n",
       "      <td>chanceCreationShooting</td>\n",
       "      <td>0.123493</td>\n",
       "    </tr>\n",
       "    <tr>\n",
       "      <th>6</th>\n",
       "      <td>defencePressure</td>\n",
       "      <td>0.304378</td>\n",
       "    </tr>\n",
       "    <tr>\n",
       "      <th>7</th>\n",
       "      <td>defenceAggression</td>\n",
       "      <td>0.203082</td>\n",
       "    </tr>\n",
       "    <tr>\n",
       "      <th>8</th>\n",
       "      <td>defenceTeamWidth</td>\n",
       "      <td>0.115347</td>\n",
       "    </tr>\n",
       "  </tbody>\n",
       "</table>\n",
       "</div>"
      ],
      "text/plain": [
       "                attribute correlation\n",
       "0        buildUpPlaySpeed   0.0139125\n",
       "1    buildUpPlayDribbling   0.0334862\n",
       "2      buildUpPlayPassing   -0.191751\n",
       "3   chanceCreationPassing    0.045872\n",
       "4  chanceCreationCrossing   0.0677085\n",
       "5  chanceCreationShooting    0.123493\n",
       "6         defencePressure    0.304378\n",
       "7       defenceAggression    0.203082\n",
       "8        defenceTeamWidth    0.115347"
      ]
     },
     "execution_count": 27,
     "metadata": {},
     "output_type": "execute_result"
    }
   ],
   "source": [
    "\n",
    "team_attributes = new_df.columns[5:].tolist()\n",
    "\n",
    "results=pd.DataFrame(columns =('attribute', 'correlation'))\n",
    "i=0\n",
    "for attributes in team_attributes:\n",
    "    results.at[i,'correlation']= new_df['points per game'].corr(new_df[attributes])\n",
    "    results.at[i,'attribute'] = attributes\n",
    "    i=i+1\n",
    "\n",
    "results"
   ]
  },
  {
   "cell_type": "code",
   "execution_count": 28,
   "metadata": {},
   "outputs": [
    {
     "data": {
      "text/html": [
       "<div>\n",
       "<style scoped>\n",
       "    .dataframe tbody tr th:only-of-type {\n",
       "        vertical-align: middle;\n",
       "    }\n",
       "\n",
       "    .dataframe tbody tr th {\n",
       "        vertical-align: top;\n",
       "    }\n",
       "\n",
       "    .dataframe thead th {\n",
       "        text-align: right;\n",
       "    }\n",
       "</style>\n",
       "<table border=\"1\" class=\"dataframe\">\n",
       "  <thead>\n",
       "    <tr style=\"text-align: right;\">\n",
       "      <th></th>\n",
       "      <th>defencePressure</th>\n",
       "    </tr>\n",
       "  </thead>\n",
       "  <tbody>\n",
       "    <tr>\n",
       "      <th>count</th>\n",
       "      <td>914.000000</td>\n",
       "    </tr>\n",
       "    <tr>\n",
       "      <th>mean</th>\n",
       "      <td>45.642232</td>\n",
       "    </tr>\n",
       "    <tr>\n",
       "      <th>std</th>\n",
       "      <td>8.954431</td>\n",
       "    </tr>\n",
       "    <tr>\n",
       "      <th>min</th>\n",
       "      <td>23.000000</td>\n",
       "    </tr>\n",
       "    <tr>\n",
       "      <th>25%</th>\n",
       "      <td>39.000000</td>\n",
       "    </tr>\n",
       "    <tr>\n",
       "      <th>50%</th>\n",
       "      <td>46.000000</td>\n",
       "    </tr>\n",
       "    <tr>\n",
       "      <th>75%</th>\n",
       "      <td>51.000000</td>\n",
       "    </tr>\n",
       "    <tr>\n",
       "      <th>max</th>\n",
       "      <td>72.000000</td>\n",
       "    </tr>\n",
       "  </tbody>\n",
       "</table>\n",
       "</div>"
      ],
      "text/plain": [
       "       defencePressure\n",
       "count       914.000000\n",
       "mean         45.642232\n",
       "std           8.954431\n",
       "min          23.000000\n",
       "25%          39.000000\n",
       "50%          46.000000\n",
       "75%          51.000000\n",
       "max          72.000000"
      ]
     },
     "execution_count": 28,
     "metadata": {},
     "output_type": "execute_result"
    },
    {
     "data": {
      "image/png": "[encoded data removed]",
      "text/plain": [
       "<Figure size 432x288 with 1 Axes>"
      ]
     },
     "metadata": {
      "needs_background": "light"
     },
     "output_type": "display_data"
    }
   ],
   "source": [
    "sns.regplot(new_df['defencePressure'], new_df['points per game'], robust=True, ci= None)\n",
    "pd.DataFrame(new_df['defencePressure'].describe())"
   ]
  },
  {
   "cell_type": "code",
   "execution_count": null,
   "metadata": {},
   "outputs": [],
   "source": []
  },
  {
   "cell_type": "markdown",
   "metadata": {},
   "source": [
    "Results: As we can see, by comparing the whole database, there appears to be a small positive correlation between most attributes and the team's performance (average points per game during the wholw season). The only exception to this was with the BuildUpPassing attribute where the correlation was negative. The strongest correlation was with the 'defencePressure' metric. There are 914 data points for every attribute except buildUpPlayPassing where we have 360. \n",
    "\n",
    "In the next section we will explore these relationship with respect to teams classified and organized in their respective leagues. The 11 leagues are\n",
    "- \"Belgium Jupiler League\"\n",
    "- \"England Premier League\"\n",
    "- \"France Ligue 1\"\n",
    "- \"Germany 1. Bundesliga\"\n",
    "- \"Italy Serie A\"\n",
    "- \"Netherlands Eredivisie\"\n",
    "- \"Poland Ekstraklasa\"\n",
    "- \"Portugal Liga ZON Sagres\"\n",
    "- \"Scotland Premier League\"\n",
    "- \"Spain LIGA BBVA\"\n",
    "- \"Switzerland Super League\""
   ]
  },
  {
   "cell_type": "markdown",
   "metadata": {},
   "source": [
    "# Section 4: Exploring the Pearson Coefficients for every league.\n"
   ]
  },
  {
   "cell_type": "code",
   "execution_count": 29,
   "metadata": {},
   "outputs": [
    {
     "data": {
      "text/html": [
       "<div>\n",
       "<style scoped>\n",
       "    .dataframe tbody tr th:only-of-type {\n",
       "        vertical-align: middle;\n",
       "    }\n",
       "\n",
       "    .dataframe tbody tr th {\n",
       "        vertical-align: top;\n",
       "    }\n",
       "\n",
       "    .dataframe thead th {\n",
       "        text-align: right;\n",
       "    }\n",
       "</style>\n",
       "<table border=\"1\" class=\"dataframe\">\n",
       "  <thead>\n",
       "    <tr style=\"text-align: right;\">\n",
       "      <th></th>\n",
       "      <th>country_id</th>\n",
       "      <th>team_id_b</th>\n",
       "      <th>Country</th>\n",
       "      <th>League_name</th>\n",
       "      <th>id</th>\n",
       "    </tr>\n",
       "  </thead>\n",
       "  <tbody>\n",
       "    <tr>\n",
       "      <th>0</th>\n",
       "      <td>1</td>\n",
       "      <td>1773</td>\n",
       "      <td>Belgium</td>\n",
       "      <td>Belgium Jupiler League</td>\n",
       "      <td>1</td>\n",
       "    </tr>\n",
       "    <tr>\n",
       "      <th>1</th>\n",
       "      <td>1</td>\n",
       "      <td>4049</td>\n",
       "      <td>Belgium</td>\n",
       "      <td>Belgium Jupiler League</td>\n",
       "      <td>1</td>\n",
       "    </tr>\n",
       "    <tr>\n",
       "      <th>2</th>\n",
       "      <td>1</td>\n",
       "      <td>6351</td>\n",
       "      <td>Belgium</td>\n",
       "      <td>Belgium Jupiler League</td>\n",
       "      <td>1</td>\n",
       "    </tr>\n",
       "    <tr>\n",
       "      <th>3</th>\n",
       "      <td>1</td>\n",
       "      <td>7947</td>\n",
       "      <td>Belgium</td>\n",
       "      <td>Belgium Jupiler League</td>\n",
       "      <td>1</td>\n",
       "    </tr>\n",
       "    <tr>\n",
       "      <th>4</th>\n",
       "      <td>1</td>\n",
       "      <td>8203</td>\n",
       "      <td>Belgium</td>\n",
       "      <td>Belgium Jupiler League</td>\n",
       "      <td>1</td>\n",
       "    </tr>\n",
       "  </tbody>\n",
       "</table>\n",
       "</div>"
      ],
      "text/plain": [
       "   country_id  team_id_b  Country             League_name  id\n",
       "0           1       1773  Belgium  Belgium Jupiler League   1\n",
       "1           1       4049  Belgium  Belgium Jupiler League   1\n",
       "2           1       6351  Belgium  Belgium Jupiler League   1\n",
       "3           1       7947  Belgium  Belgium Jupiler League   1\n",
       "4           1       8203  Belgium  Belgium Jupiler League   1"
      ]
     },
     "execution_count": 29,
     "metadata": {},
     "output_type": "execute_result"
    }
   ],
   "source": [
    "countries_teams =  df.groupby(['country_id','home_team_api_id'])\n",
    "#remember, df is the DataFrame from question 1, it represents every match, who played against whom and the results\n",
    "#the trick here is to group all the teams by country_id and then merge those results with the CSV file that links\n",
    "#the country_id to the Country\n",
    "\n",
    "combinations_list = countries_teams.nunique().index.tolist()   #this finds all the combinations for country_id and team_id\n",
    "\n",
    "Teams_countries=pd.DataFrame(columns=('country_id', 'team_id_b'))\n",
    "\n",
    "i = 0\n",
    "\n",
    "for combinations in combinations_list:\n",
    "    Teams_countries.at[i,'country_id'] = combinations[0]\n",
    "    Teams_countries.at[i,'team_id_b'] = combinations[1]\n",
    "    i = i +1\n",
    "\n",
    "\n",
    "leagues = pd.read_csv('country_leagues.csv', names =('Country', 'League_name', 'id'), header = 0)\n",
    "leagues.head()\n",
    "\n",
    "\n",
    "Teams_countries.iloc[:,:] = Teams_countries.iloc[:,:].astype(int)\n",
    "\n",
    "teams_countries_leagues = pd.merge(Teams_countries, leagues, how = 'inner', left_on = 'country_id', right_on = 'id')\n",
    "teams_countries_leagues.head()"
   ]
  },
  {
   "cell_type": "code",
   "execution_count": 30,
   "metadata": {},
   "outputs": [],
   "source": [
    "teams_countries_leagues.drop(columns = ('id'),inplace= True)"
   ]
  },
  {
   "cell_type": "markdown",
   "metadata": {},
   "source": [
    "Remember, the DataFrame new_df represents every team_id, for every season along with that team's respective Team Attributes\n",
    "Now we will merge that information with team_countries_leagues on the team_id index. This means means we will get a new table containing: every team_id, every season, their performance in every season (points per game), their team attributes and a country/league name for them.  \n",
    "\n",
    "Ignore the NaN values, they are NaN because this Team Attribute was added to later version of Fifa, it will not affect the code"
   ]
  },
  {
   "cell_type": "code",
   "execution_count": 31,
   "metadata": {},
   "outputs": [
    {
     "data": {
      "text/html": [
       "<div>\n",
       "<style scoped>\n",
       "    .dataframe tbody tr th:only-of-type {\n",
       "        vertical-align: middle;\n",
       "    }\n",
       "\n",
       "    .dataframe tbody tr th {\n",
       "        vertical-align: top;\n",
       "    }\n",
       "\n",
       "    .dataframe thead th {\n",
       "        text-align: right;\n",
       "    }\n",
       "</style>\n",
       "<table border=\"1\" class=\"dataframe\">\n",
       "  <thead>\n",
       "    <tr style=\"text-align: right;\">\n",
       "      <th></th>\n",
       "      <th>team_id</th>\n",
       "      <th>season</th>\n",
       "      <th>points per game</th>\n",
       "      <th>team_api_id</th>\n",
       "      <th>season_b</th>\n",
       "      <th>buildUpPlaySpeed</th>\n",
       "      <th>buildUpPlayDribbling</th>\n",
       "      <th>buildUpPlayPassing</th>\n",
       "      <th>chanceCreationPassing</th>\n",
       "      <th>chanceCreationCrossing</th>\n",
       "      <th>chanceCreationShooting</th>\n",
       "      <th>defencePressure</th>\n",
       "      <th>defenceAggression</th>\n",
       "      <th>defenceTeamWidth</th>\n",
       "      <th>country_id</th>\n",
       "      <th>team_id_b</th>\n",
       "      <th>Country</th>\n",
       "      <th>League_name</th>\n",
       "    </tr>\n",
       "  </thead>\n",
       "  <tbody>\n",
       "    <tr>\n",
       "      <th>0</th>\n",
       "      <td>9773</td>\n",
       "      <td>2010/2011</td>\n",
       "      <td>2.8</td>\n",
       "      <td>9773</td>\n",
       "      <td>2010/2011</td>\n",
       "      <td>50.0</td>\n",
       "      <td>NaN</td>\n",
       "      <td>50.0</td>\n",
       "      <td>50.0</td>\n",
       "      <td>65.0</td>\n",
       "      <td>65.0</td>\n",
       "      <td>55.0</td>\n",
       "      <td>43.0</td>\n",
       "      <td>65.0</td>\n",
       "      <td>17642</td>\n",
       "      <td>9773</td>\n",
       "      <td>Portugal</td>\n",
       "      <td>Portugal Liga ZON Sagres</td>\n",
       "    </tr>\n",
       "    <tr>\n",
       "      <th>1</th>\n",
       "      <td>9773</td>\n",
       "      <td>2012/2013</td>\n",
       "      <td>2.6</td>\n",
       "      <td>9773</td>\n",
       "      <td>2012/2013</td>\n",
       "      <td>52.0</td>\n",
       "      <td>NaN</td>\n",
       "      <td>53.0</td>\n",
       "      <td>56.0</td>\n",
       "      <td>72.0</td>\n",
       "      <td>68.0</td>\n",
       "      <td>58.0</td>\n",
       "      <td>60.0</td>\n",
       "      <td>57.0</td>\n",
       "      <td>17642</td>\n",
       "      <td>9773</td>\n",
       "      <td>Portugal</td>\n",
       "      <td>Portugal Liga ZON Sagres</td>\n",
       "    </tr>\n",
       "    <tr>\n",
       "      <th>2</th>\n",
       "      <td>9773</td>\n",
       "      <td>2011/2012</td>\n",
       "      <td>2.5</td>\n",
       "      <td>9773</td>\n",
       "      <td>2011/2012</td>\n",
       "      <td>52.0</td>\n",
       "      <td>NaN</td>\n",
       "      <td>53.0</td>\n",
       "      <td>56.0</td>\n",
       "      <td>72.0</td>\n",
       "      <td>68.0</td>\n",
       "      <td>61.0</td>\n",
       "      <td>49.0</td>\n",
       "      <td>60.0</td>\n",
       "      <td>17642</td>\n",
       "      <td>9773</td>\n",
       "      <td>Portugal</td>\n",
       "      <td>Portugal Liga ZON Sagres</td>\n",
       "    </tr>\n",
       "  </tbody>\n",
       "</table>\n",
       "</div>"
      ],
      "text/plain": [
       "   team_id     season  points per game  team_api_id   season_b  \\\n",
       "0     9773  2010/2011              2.8         9773  2010/2011   \n",
       "1     9773  2012/2013              2.6         9773  2012/2013   \n",
       "2     9773  2011/2012              2.5         9773  2011/2012   \n",
       "\n",
       "   buildUpPlaySpeed  buildUpPlayDribbling  buildUpPlayPassing  \\\n",
       "0              50.0                   NaN                50.0   \n",
       "1              52.0                   NaN                53.0   \n",
       "2              52.0                   NaN                53.0   \n",
       "\n",
       "   chanceCreationPassing  chanceCreationCrossing  chanceCreationShooting  \\\n",
       "0                   50.0                    65.0                    65.0   \n",
       "1                   56.0                    72.0                    68.0   \n",
       "2                   56.0                    72.0                    68.0   \n",
       "\n",
       "   defencePressure  defenceAggression  defenceTeamWidth  country_id  \\\n",
       "0             55.0               43.0              65.0       17642   \n",
       "1             58.0               60.0              57.0       17642   \n",
       "2             61.0               49.0              60.0       17642   \n",
       "\n",
       "   team_id_b   Country               League_name  \n",
       "0       9773  Portugal  Portugal Liga ZON Sagres  \n",
       "1       9773  Portugal  Portugal Liga ZON Sagres  \n",
       "2       9773  Portugal  Portugal Liga ZON Sagres  "
      ]
     },
     "execution_count": 31,
     "metadata": {},
     "output_type": "execute_result"
    }
   ],
   "source": [
    "new_df_with_leagues= pd.merge(new_df, teams_countries_leagues, how= 'inner', left_on = 'team_id', right_on = 'team_id_b')\n",
    "new_df_with_leagues.head(3)"
   ]
  },
  {
   "cell_type": "markdown",
   "metadata": {},
   "source": [
    "Now, the plan is to group every country/league independantly by using Pandas' groupby function and then calculating the Pearson's Coefficients, the results will be stored in a new DataFrame in order to see all the results "
   ]
  },
  {
   "cell_type": "code",
   "execution_count": 32,
   "metadata": {
    "scrolled": true
   },
   "outputs": [
    {
     "data": {
      "text/html": [
       "<div>\n",
       "<style scoped>\n",
       "    .dataframe tbody tr th:only-of-type {\n",
       "        vertical-align: middle;\n",
       "    }\n",
       "\n",
       "    .dataframe tbody tr th {\n",
       "        vertical-align: top;\n",
       "    }\n",
       "\n",
       "    .dataframe thead th {\n",
       "        text-align: right;\n",
       "    }\n",
       "</style>\n",
       "<table border=\"1\" class=\"dataframe\">\n",
       "  <thead>\n",
       "    <tr style=\"text-align: right;\">\n",
       "      <th></th>\n",
       "      <th>Country</th>\n",
       "      <th>buildUpPlaySpeed</th>\n",
       "      <th>buildUpPlayDribbling</th>\n",
       "      <th>buildUpPlayPassing</th>\n",
       "      <th>chanceCreationPassing</th>\n",
       "      <th>chanceCreationCrossing</th>\n",
       "      <th>chanceCreationShooting</th>\n",
       "      <th>defencePressure</th>\n",
       "      <th>defenceAggression</th>\n",
       "      <th>defenceTeamWidth</th>\n",
       "    </tr>\n",
       "  </thead>\n",
       "  <tbody>\n",
       "    <tr>\n",
       "      <th>0</th>\n",
       "      <td>Belgium</td>\n",
       "      <td>0.124187</td>\n",
       "      <td>0.361807</td>\n",
       "      <td>0.023663</td>\n",
       "      <td>0.153821</td>\n",
       "      <td>0.266593</td>\n",
       "      <td>-0.009900</td>\n",
       "      <td>0.381194</td>\n",
       "      <td>0.201187</td>\n",
       "      <td>0.080455</td>\n",
       "    </tr>\n",
       "    <tr>\n",
       "      <th>1</th>\n",
       "      <td>England</td>\n",
       "      <td>-0.063919</td>\n",
       "      <td>0.426400</td>\n",
       "      <td>-0.518864</td>\n",
       "      <td>-0.349570</td>\n",
       "      <td>-0.048267</td>\n",
       "      <td>0.162014</td>\n",
       "      <td>0.269318</td>\n",
       "      <td>0.125142</td>\n",
       "      <td>0.273250</td>\n",
       "    </tr>\n",
       "    <tr>\n",
       "      <th>2</th>\n",
       "      <td>France</td>\n",
       "      <td>-0.263444</td>\n",
       "      <td>0.229437</td>\n",
       "      <td>-0.195366</td>\n",
       "      <td>0.202277</td>\n",
       "      <td>0.162719</td>\n",
       "      <td>0.037749</td>\n",
       "      <td>0.304763</td>\n",
       "      <td>0.124716</td>\n",
       "      <td>0.074931</td>\n",
       "    </tr>\n",
       "    <tr>\n",
       "      <th>3</th>\n",
       "      <td>Germany</td>\n",
       "      <td>0.120863</td>\n",
       "      <td>-0.595693</td>\n",
       "      <td>-0.275883</td>\n",
       "      <td>-0.217527</td>\n",
       "      <td>-0.283669</td>\n",
       "      <td>-0.070245</td>\n",
       "      <td>0.384384</td>\n",
       "      <td>0.135097</td>\n",
       "      <td>-0.055826</td>\n",
       "    </tr>\n",
       "    <tr>\n",
       "      <th>4</th>\n",
       "      <td>Italy</td>\n",
       "      <td>-0.117499</td>\n",
       "      <td>0.017895</td>\n",
       "      <td>-0.176271</td>\n",
       "      <td>0.385170</td>\n",
       "      <td>0.163613</td>\n",
       "      <td>0.173760</td>\n",
       "      <td>0.154445</td>\n",
       "      <td>0.288050</td>\n",
       "      <td>-0.239953</td>\n",
       "    </tr>\n",
       "    <tr>\n",
       "      <th>5</th>\n",
       "      <td>Netherlands</td>\n",
       "      <td>-0.050675</td>\n",
       "      <td>0.032998</td>\n",
       "      <td>-0.409712</td>\n",
       "      <td>0.000284</td>\n",
       "      <td>0.280294</td>\n",
       "      <td>-0.034032</td>\n",
       "      <td>0.440524</td>\n",
       "      <td>0.158543</td>\n",
       "      <td>0.227668</td>\n",
       "    </tr>\n",
       "    <tr>\n",
       "      <th>6</th>\n",
       "      <td>Poland</td>\n",
       "      <td>0.145336</td>\n",
       "      <td>-0.036645</td>\n",
       "      <td>-0.194691</td>\n",
       "      <td>0.048427</td>\n",
       "      <td>-0.078177</td>\n",
       "      <td>0.225968</td>\n",
       "      <td>0.125252</td>\n",
       "      <td>0.137616</td>\n",
       "      <td>0.135585</td>\n",
       "    </tr>\n",
       "    <tr>\n",
       "      <th>7</th>\n",
       "      <td>Portugal</td>\n",
       "      <td>0.302817</td>\n",
       "      <td>-0.020156</td>\n",
       "      <td>0.315090</td>\n",
       "      <td>0.293306</td>\n",
       "      <td>0.414271</td>\n",
       "      <td>0.392870</td>\n",
       "      <td>0.553030</td>\n",
       "      <td>0.489070</td>\n",
       "      <td>0.153989</td>\n",
       "    </tr>\n",
       "    <tr>\n",
       "      <th>8</th>\n",
       "      <td>Scotland</td>\n",
       "      <td>0.255962</td>\n",
       "      <td>0.304142</td>\n",
       "      <td>-0.001004</td>\n",
       "      <td>0.092365</td>\n",
       "      <td>0.267791</td>\n",
       "      <td>0.406767</td>\n",
       "      <td>0.201661</td>\n",
       "      <td>0.173692</td>\n",
       "      <td>0.456202</td>\n",
       "    </tr>\n",
       "    <tr>\n",
       "      <th>9</th>\n",
       "      <td>Spain</td>\n",
       "      <td>-0.218930</td>\n",
       "      <td>-0.002284</td>\n",
       "      <td>-0.255470</td>\n",
       "      <td>-0.043742</td>\n",
       "      <td>-0.260125</td>\n",
       "      <td>0.195579</td>\n",
       "      <td>0.293757</td>\n",
       "      <td>0.194084</td>\n",
       "      <td>0.213708</td>\n",
       "    </tr>\n",
       "    <tr>\n",
       "      <th>10</th>\n",
       "      <td>Switzerland</td>\n",
       "      <td>0.322958</td>\n",
       "      <td>0.619770</td>\n",
       "      <td>-0.051822</td>\n",
       "      <td>0.224036</td>\n",
       "      <td>0.177466</td>\n",
       "      <td>-0.028511</td>\n",
       "      <td>0.048199</td>\n",
       "      <td>0.293362</td>\n",
       "      <td>-0.028030</td>\n",
       "    </tr>\n",
       "  </tbody>\n",
       "</table>\n",
       "</div>"
      ],
      "text/plain": [
       "        Country  buildUpPlaySpeed  buildUpPlayDribbling  buildUpPlayPassing  \\\n",
       "0       Belgium          0.124187              0.361807            0.023663   \n",
       "1       England         -0.063919              0.426400           -0.518864   \n",
       "2        France         -0.263444              0.229437           -0.195366   \n",
       "3       Germany          0.120863             -0.595693           -0.275883   \n",
       "4         Italy         -0.117499              0.017895           -0.176271   \n",
       "5   Netherlands         -0.050675              0.032998           -0.409712   \n",
       "6        Poland          0.145336             -0.036645           -0.194691   \n",
       "7      Portugal          0.302817             -0.020156            0.315090   \n",
       "8      Scotland          0.255962              0.304142           -0.001004   \n",
       "9         Spain         -0.218930             -0.002284           -0.255470   \n",
       "10  Switzerland          0.322958              0.619770           -0.051822   \n",
       "\n",
       "    chanceCreationPassing  chanceCreationCrossing  chanceCreationShooting  \\\n",
       "0                0.153821                0.266593               -0.009900   \n",
       "1               -0.349570               -0.048267                0.162014   \n",
       "2                0.202277                0.162719                0.037749   \n",
       "3               -0.217527               -0.283669               -0.070245   \n",
       "4                0.385170                0.163613                0.173760   \n",
       "5                0.000284                0.280294               -0.034032   \n",
       "6                0.048427               -0.078177                0.225968   \n",
       "7                0.293306                0.414271                0.392870   \n",
       "8                0.092365                0.267791                0.406767   \n",
       "9               -0.043742               -0.260125                0.195579   \n",
       "10               0.224036                0.177466               -0.028511   \n",
       "\n",
       "    defencePressure  defenceAggression  defenceTeamWidth  \n",
       "0          0.381194           0.201187          0.080455  \n",
       "1          0.269318           0.125142          0.273250  \n",
       "2          0.304763           0.124716          0.074931  \n",
       "3          0.384384           0.135097         -0.055826  \n",
       "4          0.154445           0.288050         -0.239953  \n",
       "5          0.440524           0.158543          0.227668  \n",
       "6          0.125252           0.137616          0.135585  \n",
       "7          0.553030           0.489070          0.153989  \n",
       "8          0.201661           0.173692          0.456202  \n",
       "9          0.293757           0.194084          0.213708  \n",
       "10         0.048199           0.293362         -0.028030  "
      ]
     },
     "execution_count": 32,
     "metadata": {},
     "output_type": "execute_result"
    }
   ],
   "source": [
    "#countries = new_df_with_leagues.Country.unique()\n",
    "#team_attributes\n",
    "\n",
    "Correlations = pd.DataFrame(columns= ['Country'])\n",
    "\n",
    "grouped= new_df_with_leagues.groupby('Country')\n",
    "\n",
    "i2=0\n",
    "for name, country in grouped:\n",
    "    Correlations.at[i2,'Country'] = name\n",
    "    for attribute in team_attributes:\n",
    "        Correlations.at[i2,attribute]= country['points per game'].corr(country[attribute])\n",
    "    i2=i2+1\n",
    "    \n",
    "\n",
    "Correlations"
   ]
  },
  {
   "cell_type": "markdown",
   "metadata": {},
   "source": [
    "Visualizing the results: Now that we have completed, we are presented with a quick overview for every different league and we now know which attribute pairs have the strongest relationship with the team's performance\n",
    "\n",
    "For example, I have drawn a regression plot for England's 'buildUpPlayPassing' attribute and the performance, for this attribute there seems to be a negative correlation. This could help explain England's fast paced football style since the more they 'build up' the more the weaker the performance, more research is needed however."
   ]
  },
  {
   "cell_type": "code",
   "execution_count": 33,
   "metadata": {},
   "outputs": [
    {
     "data": {
      "text/html": [
       "<div>\n",
       "<style scoped>\n",
       "    .dataframe tbody tr th:only-of-type {\n",
       "        vertical-align: middle;\n",
       "    }\n",
       "\n",
       "    .dataframe tbody tr th {\n",
       "        vertical-align: top;\n",
       "    }\n",
       "\n",
       "    .dataframe thead th {\n",
       "        text-align: right;\n",
       "    }\n",
       "</style>\n",
       "<table border=\"1\" class=\"dataframe\">\n",
       "  <thead>\n",
       "    <tr style=\"text-align: right;\">\n",
       "      <th></th>\n",
       "      <th>buildUpPlayPassing</th>\n",
       "    </tr>\n",
       "  </thead>\n",
       "  <tbody>\n",
       "    <tr>\n",
       "      <th>count</th>\n",
       "      <td>100.000000</td>\n",
       "    </tr>\n",
       "    <tr>\n",
       "      <th>mean</th>\n",
       "      <td>51.170000</td>\n",
       "    </tr>\n",
       "    <tr>\n",
       "      <th>std</th>\n",
       "      <td>12.544913</td>\n",
       "    </tr>\n",
       "    <tr>\n",
       "      <th>min</th>\n",
       "      <td>24.000000</td>\n",
       "    </tr>\n",
       "    <tr>\n",
       "      <th>25%</th>\n",
       "      <td>40.750000</td>\n",
       "    </tr>\n",
       "    <tr>\n",
       "      <th>50%</th>\n",
       "      <td>51.000000</td>\n",
       "    </tr>\n",
       "    <tr>\n",
       "      <th>75%</th>\n",
       "      <td>60.000000</td>\n",
       "    </tr>\n",
       "    <tr>\n",
       "      <th>max</th>\n",
       "      <td>80.000000</td>\n",
       "    </tr>\n",
       "  </tbody>\n",
       "</table>\n",
       "</div>"
      ],
      "text/plain": [
       "       buildUpPlayPassing\n",
       "count          100.000000\n",
       "mean            51.170000\n",
       "std             12.544913\n",
       "min             24.000000\n",
       "25%             40.750000\n",
       "50%             51.000000\n",
       "75%             60.000000\n",
       "max             80.000000"
      ]
     },
     "execution_count": 33,
     "metadata": {},
     "output_type": "execute_result"
    },
    {
     "data": {
      "image/png": "[encoded data removed]",
      "text/plain": [
       "<Figure size 432x288 with 1 Axes>"
      ]
     },
     "metadata": {
      "needs_background": "light"
     },
     "output_type": "display_data"
    }
   ],
   "source": [
    "\n",
    "england= grouped.get_group('England')\n",
    "\n",
    "\n",
    "sns.regplot(england['buildUpPlayPassing'], england['points per game'], robust=True, ci= None).set_title(\"Premier League's relationship between X and Points Per Game\")\n",
    "\n",
    "pd.DataFrame(england['buildUpPlayPassing'].describe())"
   ]
  },
  {
   "cell_type": "markdown",
   "metadata": {},
   "source": [
    "We can also get some characteristics for this specific group, see below"
   ]
  },
  {
   "cell_type": "code",
   "execution_count": 34,
   "metadata": {},
   "outputs": [
    {
     "data": {
      "text/html": [
       "<div>\n",
       "<style scoped>\n",
       "    .dataframe tbody tr th:only-of-type {\n",
       "        vertical-align: middle;\n",
       "    }\n",
       "\n",
       "    .dataframe tbody tr th {\n",
       "        vertical-align: top;\n",
       "    }\n",
       "\n",
       "    .dataframe thead th {\n",
       "        text-align: right;\n",
       "    }\n",
       "</style>\n",
       "<table border=\"1\" class=\"dataframe\">\n",
       "  <thead>\n",
       "    <tr style=\"text-align: right;\">\n",
       "      <th></th>\n",
       "      <th>team_id</th>\n",
       "      <th>points per game</th>\n",
       "      <th>team_api_id</th>\n",
       "      <th>buildUpPlaySpeed</th>\n",
       "      <th>buildUpPlayDribbling</th>\n",
       "      <th>buildUpPlayPassing</th>\n",
       "      <th>chanceCreationPassing</th>\n",
       "      <th>chanceCreationCrossing</th>\n",
       "      <th>chanceCreationShooting</th>\n",
       "      <th>defencePressure</th>\n",
       "      <th>defenceAggression</th>\n",
       "      <th>defenceTeamWidth</th>\n",
       "      <th>country_id</th>\n",
       "      <th>team_id_b</th>\n",
       "    </tr>\n",
       "  </thead>\n",
       "  <tbody>\n",
       "    <tr>\n",
       "      <th>count</th>\n",
       "      <td>100.00000</td>\n",
       "      <td>100.000000</td>\n",
       "      <td>100.00000</td>\n",
       "      <td>100.000000</td>\n",
       "      <td>40.000000</td>\n",
       "      <td>100.000000</td>\n",
       "      <td>100.0000</td>\n",
       "      <td>100.000000</td>\n",
       "      <td>100.00000</td>\n",
       "      <td>100.000000</td>\n",
       "      <td>100.00000</td>\n",
       "      <td>100.000000</td>\n",
       "      <td>100.0</td>\n",
       "      <td>100.00000</td>\n",
       "    </tr>\n",
       "    <tr>\n",
       "      <th>mean</th>\n",
       "      <td>9191.71000</td>\n",
       "      <td>1.372895</td>\n",
       "      <td>9191.71000</td>\n",
       "      <td>54.510000</td>\n",
       "      <td>38.700000</td>\n",
       "      <td>51.170000</td>\n",
       "      <td>48.9500</td>\n",
       "      <td>54.200000</td>\n",
       "      <td>50.38000</td>\n",
       "      <td>44.910000</td>\n",
       "      <td>48.05000</td>\n",
       "      <td>51.390000</td>\n",
       "      <td>1729.0</td>\n",
       "      <td>9191.71000</td>\n",
       "    </tr>\n",
       "    <tr>\n",
       "      <th>std</th>\n",
       "      <td>766.92523</td>\n",
       "      <td>0.435283</td>\n",
       "      <td>766.92523</td>\n",
       "      <td>11.337339</td>\n",
       "      <td>7.397851</td>\n",
       "      <td>12.544913</td>\n",
       "      <td>10.2093</td>\n",
       "      <td>11.442434</td>\n",
       "      <td>11.32868</td>\n",
       "      <td>8.982694</td>\n",
       "      <td>8.95034</td>\n",
       "      <td>6.752321</td>\n",
       "      <td>0.0</td>\n",
       "      <td>766.92523</td>\n",
       "    </tr>\n",
       "    <tr>\n",
       "      <th>min</th>\n",
       "      <td>8191.00000</td>\n",
       "      <td>0.657895</td>\n",
       "      <td>8191.00000</td>\n",
       "      <td>25.000000</td>\n",
       "      <td>24.000000</td>\n",
       "      <td>24.000000</td>\n",
       "      <td>28.0000</td>\n",
       "      <td>30.000000</td>\n",
       "      <td>24.00000</td>\n",
       "      <td>25.000000</td>\n",
       "      <td>28.00000</td>\n",
       "      <td>38.000000</td>\n",
       "      <td>1729.0</td>\n",
       "      <td>8191.00000</td>\n",
       "    </tr>\n",
       "    <tr>\n",
       "      <th>25%</th>\n",
       "      <td>8551.25000</td>\n",
       "      <td>1.046053</td>\n",
       "      <td>8551.25000</td>\n",
       "      <td>46.000000</td>\n",
       "      <td>34.000000</td>\n",
       "      <td>40.750000</td>\n",
       "      <td>41.0000</td>\n",
       "      <td>45.000000</td>\n",
       "      <td>41.75000</td>\n",
       "      <td>39.000000</td>\n",
       "      <td>41.00000</td>\n",
       "      <td>46.000000</td>\n",
       "      <td>1729.0</td>\n",
       "      <td>8551.25000</td>\n",
       "    </tr>\n",
       "    <tr>\n",
       "      <th>50%</th>\n",
       "      <td>8659.00000</td>\n",
       "      <td>1.236842</td>\n",
       "      <td>8659.00000</td>\n",
       "      <td>56.000000</td>\n",
       "      <td>37.000000</td>\n",
       "      <td>51.000000</td>\n",
       "      <td>48.0000</td>\n",
       "      <td>55.000000</td>\n",
       "      <td>50.50000</td>\n",
       "      <td>45.000000</td>\n",
       "      <td>47.00000</td>\n",
       "      <td>51.000000</td>\n",
       "      <td>1729.0</td>\n",
       "      <td>8659.00000</td>\n",
       "    </tr>\n",
       "    <tr>\n",
       "      <th>75%</th>\n",
       "      <td>10003.00000</td>\n",
       "      <td>1.684211</td>\n",
       "      <td>10003.00000</td>\n",
       "      <td>61.250000</td>\n",
       "      <td>43.250000</td>\n",
       "      <td>60.000000</td>\n",
       "      <td>55.0000</td>\n",
       "      <td>62.000000</td>\n",
       "      <td>58.00000</td>\n",
       "      <td>51.000000</td>\n",
       "      <td>55.00000</td>\n",
       "      <td>56.000000</td>\n",
       "      <td>1729.0</td>\n",
       "      <td>10003.00000</td>\n",
       "    </tr>\n",
       "    <tr>\n",
       "      <th>max</th>\n",
       "      <td>10261.00000</td>\n",
       "      <td>2.342105</td>\n",
       "      <td>10261.00000</td>\n",
       "      <td>77.000000</td>\n",
       "      <td>60.000000</td>\n",
       "      <td>80.000000</td>\n",
       "      <td>72.0000</td>\n",
       "      <td>76.000000</td>\n",
       "      <td>80.00000</td>\n",
       "      <td>65.000000</td>\n",
       "      <td>65.00000</td>\n",
       "      <td>65.000000</td>\n",
       "      <td>1729.0</td>\n",
       "      <td>10261.00000</td>\n",
       "    </tr>\n",
       "  </tbody>\n",
       "</table>\n",
       "</div>"
      ],
      "text/plain": [
       "           team_id  points per game  team_api_id  buildUpPlaySpeed  \\\n",
       "count    100.00000       100.000000    100.00000        100.000000   \n",
       "mean    9191.71000         1.372895   9191.71000         54.510000   \n",
       "std      766.92523         0.435283    766.92523         11.337339   \n",
       "min     8191.00000         0.657895   8191.00000         25.000000   \n",
       "25%     8551.25000         1.046053   8551.25000         46.000000   \n",
       "50%     8659.00000         1.236842   8659.00000         56.000000   \n",
       "75%    10003.00000         1.684211  10003.00000         61.250000   \n",
       "max    10261.00000         2.342105  10261.00000         77.000000   \n",
       "\n",
       "       buildUpPlayDribbling  buildUpPlayPassing  chanceCreationPassing  \\\n",
       "count             40.000000          100.000000               100.0000   \n",
       "mean              38.700000           51.170000                48.9500   \n",
       "std                7.397851           12.544913                10.2093   \n",
       "min               24.000000           24.000000                28.0000   \n",
       "25%               34.000000           40.750000                41.0000   \n",
       "50%               37.000000           51.000000                48.0000   \n",
       "75%               43.250000           60.000000                55.0000   \n",
       "max               60.000000           80.000000                72.0000   \n",
       "\n",
       "       chanceCreationCrossing  chanceCreationShooting  defencePressure  \\\n",
       "count              100.000000               100.00000       100.000000   \n",
       "mean                54.200000                50.38000        44.910000   \n",
       "std                 11.442434                11.32868         8.982694   \n",
       "min                 30.000000                24.00000        25.000000   \n",
       "25%                 45.000000                41.75000        39.000000   \n",
       "50%                 55.000000                50.50000        45.000000   \n",
       "75%                 62.000000                58.00000        51.000000   \n",
       "max                 76.000000                80.00000        65.000000   \n",
       "\n",
       "       defenceAggression  defenceTeamWidth  country_id    team_id_b  \n",
       "count          100.00000        100.000000       100.0    100.00000  \n",
       "mean            48.05000         51.390000      1729.0   9191.71000  \n",
       "std              8.95034          6.752321         0.0    766.92523  \n",
       "min             28.00000         38.000000      1729.0   8191.00000  \n",
       "25%             41.00000         46.000000      1729.0   8551.25000  \n",
       "50%             47.00000         51.000000      1729.0   8659.00000  \n",
       "75%             55.00000         56.000000      1729.0  10003.00000  \n",
       "max             65.00000         65.000000      1729.0  10261.00000  "
      ]
     },
     "execution_count": 34,
     "metadata": {},
     "output_type": "execute_result"
    }
   ],
   "source": [
    "england.describe()"
   ]
  },
  {
   "cell_type": "markdown",
   "metadata": {},
   "source": [
    "Another type of diagram that I decided to draw was the histogram for one of Italy's attributes below. The X intervals are 5"
   ]
  },
  {
   "cell_type": "code",
   "execution_count": 35,
   "metadata": {},
   "outputs": [
    {
     "data": {
      "text/html": [
       "<div>\n",
       "<style scoped>\n",
       "    .dataframe tbody tr th:only-of-type {\n",
       "        vertical-align: middle;\n",
       "    }\n",
       "\n",
       "    .dataframe tbody tr th {\n",
       "        vertical-align: top;\n",
       "    }\n",
       "\n",
       "    .dataframe thead th {\n",
       "        text-align: right;\n",
       "    }\n",
       "</style>\n",
       "<table border=\"1\" class=\"dataframe\">\n",
       "  <thead>\n",
       "    <tr style=\"text-align: right;\">\n",
       "      <th></th>\n",
       "      <th>chanceCreationPassing</th>\n",
       "    </tr>\n",
       "  </thead>\n",
       "  <tbody>\n",
       "    <tr>\n",
       "      <th>count</th>\n",
       "      <td>100.000000</td>\n",
       "    </tr>\n",
       "    <tr>\n",
       "      <th>mean</th>\n",
       "      <td>56.510000</td>\n",
       "    </tr>\n",
       "    <tr>\n",
       "      <th>std</th>\n",
       "      <td>11.117822</td>\n",
       "    </tr>\n",
       "    <tr>\n",
       "      <th>min</th>\n",
       "      <td>32.000000</td>\n",
       "    </tr>\n",
       "    <tr>\n",
       "      <th>25%</th>\n",
       "      <td>50.000000</td>\n",
       "    </tr>\n",
       "    <tr>\n",
       "      <th>50%</th>\n",
       "      <td>56.000000</td>\n",
       "    </tr>\n",
       "    <tr>\n",
       "      <th>75%</th>\n",
       "      <td>66.000000</td>\n",
       "    </tr>\n",
       "    <tr>\n",
       "      <th>max</th>\n",
       "      <td>77.000000</td>\n",
       "    </tr>\n",
       "  </tbody>\n",
       "</table>\n",
       "</div>"
      ],
      "text/plain": [
       "       chanceCreationPassing\n",
       "count             100.000000\n",
       "mean               56.510000\n",
       "std                11.117822\n",
       "min                32.000000\n",
       "25%                50.000000\n",
       "50%                56.000000\n",
       "75%                66.000000\n",
       "max                77.000000"
      ]
     },
     "execution_count": 35,
     "metadata": {},
     "output_type": "execute_result"
    },
    {
     "data": {
      "image/png": "[encoded data removed]",
      "text/plain": [
       "<Figure size 432x288 with 1 Axes>"
      ]
     },
     "metadata": {
      "needs_background": "light"
     },
     "output_type": "display_data"
    }
   ],
   "source": [
    "Italy=grouped.get_group('Italy')\n",
    "\n",
    "sns.distplot(Italy['chanceCreationPassing'], kde=False, bins=[25,30,35,40,45,50,55,60,65,70,75,80,85],hist =True).set_title(\"Histogram for 'chanceCreationPassing' attribute for Italian teams 2010/2011 to 2015/2016\")\n",
    "\n",
    "pd.DataFrame(Italy['chanceCreationPassing'].describe())"
   ]
  },
  {
   "cell_type": "markdown",
   "metadata": {},
   "source": [
    "# Project Limitations:\n",
    "\n",
    "I wanted to briefly discuss the limitations of the analysis. Although the seasonal rankings are clear and accurate after combining 25,000 soccer matches, the limitations are apparent in the second and third section of this analysis.\n",
    "\n",
    "Firstly, since the database only takes into account matches from 2008/2009 till 2015/2016, any teams that have improved beyond this timeframe have not been included. For the last section, it is imperative to understand that just because there is a strong positive correlation between an attribute and the team's performance, my analysis cannot accurately predict the final result the team would have in the next season. Another limitation to this section is the fact that more team attributes were present but that they were qualitative in nature and I did not know how to properly asses their relationship with regards to the team's seasonal performance. Finally, I am also assuming that the team attributes are accurate and fair but I am not fully aware of the methods and techniques used by the video game series to collect and assess this information.\n",
    "\n",
    "One more limitation to Question 3 is that by analysing every team in the database, we are comparing average teams in weaker leagues and combining those with Stronger teams in stronger leagues. The limitation here is that we should be analyzing the team's attribute with regards to the attributes' mean in its league. We should be looking at the marginal change in the team attributes amongst teams in the same league, this is why I tried to seperate every league on its own in Section 4. Unfortunately, I still dont know how to conduct multivariate statistical analysis."
   ]
  },
  {
   "cell_type": "markdown",
   "metadata": {},
   "source": [
    "# Conclusion:\n",
    "In conclusion I am pretty happy with the short analysis I was able to make. From a large database, I was able to categorize the data with regards to performance, find the team that improved the most and ultimately, determine if a correlation existed between Team Attributes and the team's performance.\n",
    "\n",
    "In the coming months, I hope to learn more about conducting statistical analysis and one day I hope I will be able to answer more questions and create personal and customizable prediction models for this type of data. At first I wanted to create a model that weighted the different team metrics to create an overall function but this was a little ambitious and out of the scope of the course material. That being said, programming with python and the Pandas module was a very fun and personally rewarding experience. \n",
    "\n",
    "\n"
   ]
  }
 ],
 "metadata": {
  "kernelspec": {
   "display_name": "Python 3",
   "language": "python",
   "name": "python3"
  },
  "language_info": {
   "codemirror_mode": {
    "name": "ipython",
    "version": 3
   },
   "file_extension": ".py",
   "mimetype": "text/x-python",
   "name": "python",
   "nbconvert_exporter": "python",
   "pygments_lexer": "ipython3",
   "version": "3.7.0"
  }
 },
 "nbformat": 4,
 "nbformat_minor": 2
}
